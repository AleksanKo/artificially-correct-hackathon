{
  "nbformat": 4,
  "nbformat_minor": 0,
  "metadata": {
    "colab": {
      "name": "Challenge 4.ipynb",
      "provenance": [],
      "collapsed_sections": [],
      "authorship_tag": "ABX9TyPjskWkTWicoTXm9Vqb7t7h"
    },
    "kernelspec": {
      "name": "python3",
      "display_name": "Python 3"
    },
    "language_info": {
      "name": "python"
    }
  },
  "cells": [
    {
      "cell_type": "markdown",
      "metadata": {
        "id": "BBBq-wN9MoYm"
      },
      "source": [
        "**Task: Identifying sentences susceptible to machine translation bias**\n",
        "\n",
        "**Team: Aleksandra Konovalova, Lukas Felser, Laura König**\n",
        "\n",
        "The idea was to create solution that could be potentially language-independent. We tested several approaches:\n",
        "- Logistic Regression (sklearn)\n",
        "- NER and dependency trees (spacy)\n",
        "- pretrained Word Embeddings (gensim, just a quick look)"
      ]
    },
    {
      "cell_type": "code",
      "metadata": {
        "id": "yPdIXZiK4z8t"
      },
      "source": [
        "import numpy as np\n",
        "import pandas as pd \n",
        "\n",
        "import string"
      ],
      "execution_count": 3,
      "outputs": []
    },
    {
      "cell_type": "code",
      "metadata": {
        "id": "uNEaHwgL5eHW"
      },
      "source": [
        "df = pd.read_csv('toydata.tsv', sep='\\t', header=None, names=['label', 'source','en','de','es'],error_bad_lines=False)"
      ],
      "execution_count": 4,
      "outputs": []
    },
    {
      "cell_type": "markdown",
      "metadata": {
        "id": "DsfVEjjVTgyl"
      },
      "source": [
        "Some lines were bad (more columns than expected), so we skipped them."
      ]
    },
    {
      "cell_type": "code",
      "metadata": {
        "colab": {
          "base_uri": "https://localhost:8080/",
          "height": 423
        },
        "id": "-PIv6kYZ5gRZ",
        "outputId": "afad1125-5ee2-4979-c391-19b44eb3f200"
      },
      "source": [
        "df"
      ],
      "execution_count": 5,
      "outputs": [
        {
          "output_type": "execute_result",
          "data": {
            "text/html": [
              "<div>\n",
              "<style scoped>\n",
              "    .dataframe tbody tr th:only-of-type {\n",
              "        vertical-align: middle;\n",
              "    }\n",
              "\n",
              "    .dataframe tbody tr th {\n",
              "        vertical-align: top;\n",
              "    }\n",
              "\n",
              "    .dataframe thead th {\n",
              "        text-align: right;\n",
              "    }\n",
              "</style>\n",
              "<table border=\"1\" class=\"dataframe\">\n",
              "  <thead>\n",
              "    <tr style=\"text-align: right;\">\n",
              "      <th></th>\n",
              "      <th>label</th>\n",
              "      <th>source</th>\n",
              "      <th>en</th>\n",
              "      <th>de</th>\n",
              "      <th>es</th>\n",
              "    </tr>\n",
              "  </thead>\n",
              "  <tbody>\n",
              "    <tr>\n",
              "      <th>0</th>\n",
              "      <td>1</td>\n",
              "      <td>WikiBio</td>\n",
              "      <td>So Tara Devi received informal tuition at home.</td>\n",
              "      <td>So Tara Devi erhielt zu Hause eine informelle ...</td>\n",
              "      <td>Debido a esto, recibía clases informales en su...</td>\n",
              "    </tr>\n",
              "    <tr>\n",
              "      <th>1</th>\n",
              "      <td>1</td>\n",
              "      <td>WikiBio</td>\n",
              "      <td>Chandrima Shaha (born 14 October 1952)  is an ...</td>\n",
              "      <td>Chandrima Shaha (geboren am 14. Oktober 1952) ...</td>\n",
              "      <td>Chandrima Shaha (nacida el 14 de octubre de 19...</td>\n",
              "    </tr>\n",
              "    <tr>\n",
              "      <th>2</th>\n",
              "      <td>0</td>\n",
              "      <td>WMT13</td>\n",
              "      <td>Moreover, it should be noted that the country ...</td>\n",
              "      <td>Außerdem wird darauf hingewiesen, dass sich da...</td>\n",
              "      <td>Más aún, se señala que el país se plegó a los ...</td>\n",
              "    </tr>\n",
              "    <tr>\n",
              "      <th>3</th>\n",
              "      <td>1</td>\n",
              "      <td>WikiBio</td>\n",
              "      <td>In 2019, Forbes ranked her the 8th most powerf...</td>\n",
              "      <td>2019 setzte Forbes sie auf Platz 8 der mächtig...</td>\n",
              "      <td>En 2019, Forbes la reconoció como la octava mu...</td>\n",
              "    </tr>\n",
              "    <tr>\n",
              "      <th>4</th>\n",
              "      <td>1</td>\n",
              "      <td>WikiBio</td>\n",
              "      <td>He has also served as executive director of th...</td>\n",
              "      <td>Er fungierte auch als Executive Director des C...</td>\n",
              "      <td>También brindó servicios como director ejecuti...</td>\n",
              "    </tr>\n",
              "    <tr>\n",
              "      <th>...</th>\n",
              "      <td>...</td>\n",
              "      <td>...</td>\n",
              "      <td>...</td>\n",
              "      <td>...</td>\n",
              "      <td>...</td>\n",
              "    </tr>\n",
              "    <tr>\n",
              "      <th>2915</th>\n",
              "      <td>1</td>\n",
              "      <td>WikiBio</td>\n",
              "      <td>Upon winning a seat, she was dismissed from he...</td>\n",
              "      <td>Nach dem Gewinn des Sitzes wurde sie von ihrer...</td>\n",
              "      <td>Después de ocupar el escaño, dejó su cargo en ...</td>\n",
              "    </tr>\n",
              "    <tr>\n",
              "      <th>2916</th>\n",
              "      <td>1</td>\n",
              "      <td>WikiBio</td>\n",
              "      <td>Ruth-Rolland's subsequent detainment at a poli...</td>\n",
              "      <td>Gegen die anschließende Inhaftierung von Ruth-...</td>\n",
              "      <td>Amnistía Internacional se opuso a la detención...</td>\n",
              "    </tr>\n",
              "    <tr>\n",
              "      <th>2917</th>\n",
              "      <td>0</td>\n",
              "      <td>WMT13</td>\n",
              "      <td>Baku became famous in May due to the Eurovisio...</td>\n",
              "      <td>Baku wurde im Mai mit dem Eurovision-Song-Fest...</td>\n",
              "      <td>Baku se hizo famosa en mayo con motivo de la c...</td>\n",
              "    </tr>\n",
              "    <tr>\n",
              "      <th>2918</th>\n",
              "      <td>0</td>\n",
              "      <td>WMT13</td>\n",
              "      <td>Furthermore, these laws also reduce early voti...</td>\n",
              "      <td>Darüber hinaus werden durch diese Gesetze eben...</td>\n",
              "      <td>Por otra parte, esas leyes reducen los período...</td>\n",
              "    </tr>\n",
              "    <tr>\n",
              "      <th>2919</th>\n",
              "      <td>1</td>\n",
              "      <td>WikiBio</td>\n",
              "      <td>After completion of her schooling, Bonnelly be...</td>\n",
              "      <td>Nach dem Abschluss ihrer schulischen Ausbildun...</td>\n",
              "      <td>Después de la etapa universitaria, Bonnelly co...</td>\n",
              "    </tr>\n",
              "  </tbody>\n",
              "</table>\n",
              "<p>2920 rows × 5 columns</p>\n",
              "</div>"
            ],
            "text/plain": [
              "      label  ...                                                 es\n",
              "0         1  ...  Debido a esto, recibía clases informales en su...\n",
              "1         1  ...  Chandrima Shaha (nacida el 14 de octubre de 19...\n",
              "2         0  ...  Más aún, se señala que el país se plegó a los ...\n",
              "3         1  ...  En 2019, Forbes la reconoció como la octava mu...\n",
              "4         1  ...  También brindó servicios como director ejecuti...\n",
              "...     ...  ...                                                ...\n",
              "2915      1  ...  Después de ocupar el escaño, dejó su cargo en ...\n",
              "2916      1  ...  Amnistía Internacional se opuso a la detención...\n",
              "2917      0  ...  Baku se hizo famosa en mayo con motivo de la c...\n",
              "2918      0  ...  Por otra parte, esas leyes reducen los período...\n",
              "2919      1  ...  Después de la etapa universitaria, Bonnelly co...\n",
              "\n",
              "[2920 rows x 5 columns]"
            ]
          },
          "metadata": {},
          "execution_count": 5
        }
      ]
    },
    {
      "cell_type": "code",
      "metadata": {
        "id": "d-xlaEg57K7k"
      },
      "source": [
        "from sklearn.model_selection import train_test_split\n",
        "from sklearn.feature_extraction.text import TfidfVectorizer"
      ],
      "execution_count": 6,
      "outputs": []
    },
    {
      "cell_type": "code",
      "metadata": {
        "id": "FnZgoXV98cTs"
      },
      "source": [
        "corpus_en = df['en'].to_numpy()\n",
        "corpus_de = df['de'].to_numpy()\n",
        "corpus_es = df['es'].to_numpy()"
      ],
      "execution_count": 7,
      "outputs": []
    },
    {
      "cell_type": "code",
      "metadata": {
        "id": "phUt80vI8N9s"
      },
      "source": [
        "vectorizer_en = TfidfVectorizer()"
      ],
      "execution_count": 8,
      "outputs": []
    },
    {
      "cell_type": "code",
      "metadata": {
        "id": "aBNrvBBG8bxs"
      },
      "source": [
        "X_en = vectorizer_en.fit_transform(corpus_en)\n",
        "y = df['label'].to_numpy()"
      ],
      "execution_count": 10,
      "outputs": []
    },
    {
      "cell_type": "code",
      "metadata": {
        "id": "mYQAXUH08OAk"
      },
      "source": [
        "X_train_en, X_test_en, y_train, y_test = train_test_split(X_en, y, test_size=0.33, random_state=42)"
      ],
      "execution_count": 11,
      "outputs": []
    },
    {
      "cell_type": "code",
      "metadata": {
        "id": "YbDtaT2f_rSJ"
      },
      "source": [
        "from sklearn.linear_model import LogisticRegression"
      ],
      "execution_count": 12,
      "outputs": []
    },
    {
      "cell_type": "code",
      "metadata": {
        "id": "Vd4YRmEg_rZq"
      },
      "source": [
        "regr_en = LogisticRegression(random_state=0, solver='liblinear', multi_class='ovr')"
      ],
      "execution_count": 13,
      "outputs": []
    },
    {
      "cell_type": "code",
      "metadata": {
        "colab": {
          "base_uri": "https://localhost:8080/"
        },
        "id": "DRnr-gOOADXa",
        "outputId": "7731d892-f3fe-4cee-e401-8ced6e275e69"
      },
      "source": [
        "regr_en.fit(X_train_en,y_train)"
      ],
      "execution_count": 14,
      "outputs": [
        {
          "output_type": "execute_result",
          "data": {
            "text/plain": [
              "LogisticRegression(C=1.0, class_weight=None, dual=False, fit_intercept=True,\n",
              "                   intercept_scaling=1, l1_ratio=None, max_iter=100,\n",
              "                   multi_class='ovr', n_jobs=None, penalty='l2', random_state=0,\n",
              "                   solver='liblinear', tol=0.0001, verbose=0, warm_start=False)"
            ]
          },
          "metadata": {},
          "execution_count": 14
        }
      ]
    },
    {
      "cell_type": "code",
      "metadata": {
        "id": "zf_AQFZVArRg"
      },
      "source": [
        "y_pred_en = np.round(regr_en.predict(X_test_en))"
      ],
      "execution_count": 23,
      "outputs": []
    },
    {
      "cell_type": "code",
      "metadata": {
        "id": "A7FbG7vbb0CC"
      },
      "source": [
        "wrong_predictions = (y_test != y_pred_en).nonzero()"
      ],
      "execution_count": 28,
      "outputs": []
    },
    {
      "cell_type": "code",
      "metadata": {
        "colab": {
          "base_uri": "https://localhost:8080/"
        },
        "id": "WJYaM7O-okVX",
        "outputId": "6de81ca4-c13c-4f8a-a189-81bf86168f50"
      },
      "source": [
        "len(wrong_predictions[0])"
      ],
      "execution_count": 29,
      "outputs": [
        {
          "output_type": "execute_result",
          "data": {
            "text/plain": [
              "113"
            ]
          },
          "metadata": {},
          "execution_count": 29
        }
      ]
    },
    {
      "cell_type": "markdown",
      "metadata": {
        "id": "Hs6H6hnJWKHD"
      },
      "source": [
        "Let's look at the sentences that were labelled incorrectly as sentences that don't have any person or people in them."
      ]
    },
    {
      "cell_type": "code",
      "metadata": {
        "colab": {
          "base_uri": "https://localhost:8080/"
        },
        "id": "gSVcVOXfgZSJ",
        "outputId": "744b8f35-6d46-4a07-da0c-3a653015fa88"
      },
      "source": [
        "bad_predictions = []\n",
        "for i in range(len(corpus_en)):\n",
        "  prediction = regr_en.predict(vectorizer_en.transform([corpus_en[i]]))\n",
        "  if prediction == [0] and df['label'][i] == 1:\n",
        "    bad_predictions.append(corpus_en[i])\n",
        "\n",
        "bad_predictions"
      ],
      "execution_count": 30,
      "outputs": [
        {
          "output_type": "execute_result",
          "data": {
            "text/plain": [
              "['This patient said to me after I replaced his second hip using the PATH® Technique that it made a huge difference.',\n",
              " \"Bjørn has also created five Hans Christian Andersen ballets for the Pantomime Theatre in Copenhagen's Tivoli.\",\n",
              " 'After this operation, the patients are completely free from pain in the hip joint but their hip joint is also completely stiff.',\n",
              " 'This is the current Asian record.',\n",
              " 'I began to experiment with a low-fat diet that I devised for myself.',\n",
              " 'Luciana Aymar is the only player that has participated and won those four medals. ',\n",
              " \"It's all right for us - and our children - to be bored on occasion, they say.\",\n",
              " 'Using such scales, researchers have discovered that boys tend to be bored more often than girls, said Stephen Vodanovich, a professor of psychology at the University of West Florida, especially when it comes needing more, and a variety of, external stimulation.',\n",
              " 'Your doctor may ask you to use the results to adjust the amount of drugs you to take to control your blood clotting.',\n",
              " 'The Azeri travel guide Farid Mugimzadeh explains this as being due to the special Talysh genetics.',\n",
              " 'There are proven theories that some of the fires were intentional, in order to cover the shortage, says the former military man.',\n",
              " 'However this did not result in gaining office in the Marape government.',\n",
              " 'About 2 hours later the parents returns to find the 3 years old child along lying on the floor with several opened bottles of medicines and loose pills surrounding him.',\n",
              " 'The modern form of the operation is still known as the Kasai procedure.',\n",
              " 'There are also two small children running around.',\n",
              " 'In addition, these patients have different risk factor profiles, clinical presentations, and prognoses than older patients.',\n",
              " 'Since 2011, a dozen States have adopted laws requiring voters to prove they are American citizens.',\n",
              " \"They don't have a say.\",\n",
              " 'Your doctor will prescribe this test for you if you need to do it.',\n",
              " 'The awards are sponsored by the AfDB, the EADB,Emerging Markets Payments, MasterCard International, and other leading industry organisations.',\n",
              " 'Younger children may not be able to describe nausea, which may further complicate diagnosis.',\n",
              " 'In the developing world, the most common cause of AR is rheumatic heart disease.',\n",
              " 'It caused a stir and attracted the attention of the Parisian publishing house Éditions Gallimard, who published it in 1998.',\n",
              " 'However, it appears that two out of three Hispanic voters favour the Democratic party.',\n",
              " 'There is one problem with this idea that the critics often point out: no tactile feedback!',\n",
              " 'The talk demonstrated how the system employed multiple layers of strange and obscure techniques in lieu of standard encryption and cryptographic protocols.',\n",
              " 'But, for me, it is important to have my own money and time says another young man of around 20 years old.',\n",
              " 'However, the fact remains that the people of the region surrounding Lerik reach a biblical age with striking regularity.',\n",
              " 'Mekere Morauta is also the most important opposition politician when not in office.',\n",
              " 'A multidisciplinary team approach is recommended in approaching patients with symptomatic AS.',\n",
              " 'This residency brought him into contact with patients for the first time.',\n",
              " 'People are very stressed, houses are expensive and so is education, so a lot of people are putting off having a family says a young executive.',\n",
              " 'After the government employees vacated the building and the library furnishings were looted, Mrs. Baker convinced Anis Muhammad, the owner of the restaurant Hamdan, to help.',\n",
              " 'Speaking to Madrid-based Diario AS in 2013 about her earlier frustrations, Rossell looked back and said: “When you are a teenager, you dream of playing for your (dream) team, but since there was no Real Madrid (women’s section), I had to do it at Atlético Feminas (now Atlético Madrid Femenino) and CD Canillas.”',\n",
              " 'Your doctor and physical and occupational therapists can give you specific instructions on wound care, pain control, diet and exercise.',\n",
              " 'You say you want to change the Republic, but you are not keen on putting your own money into it.',\n",
              " 'Even with intensive care support, the brain dead donor can be challenging to manage because the pathophysiologic changes induced by brain death upset homeostasis.',\n",
              " 'The small number of Christian and Hindu nurses who worked there had just reduced in number.',\n",
              " 'The reserve covers around three square miles and is a protected zone, allowing fish which had previously been depleted to regenerate and providing a variety of fish for divers to encounter.',\n",
              " 'Republican leaders justified their policy by the need to combat electoral fraud.',\n",
              " 'Although these new rules may be a step towards increasing the national birth rate, when talking to Singaporeans working in the central financial district, it seems they will not have much impact.',\n",
              " 'The condition occurs mostly in women in the childbearing years.',\n",
              " 'The same applied to Hispanics.',\n",
              " 'Coalition forces met with more resistance than expected.',\n",
              " 'Other Opals to have played with the Lightning include Jenny Whittle, Carla Boyd, Jo Hill, Kristi Harrower, Erin Phillips, Jae Kingi-Cross, Marina Moffa, Tracey Beatty and Suzy Batkovic-Brown.',\n",
              " 'We have an indulgence from the Pope.',\n",
              " 'There are salesmen on labour markets, but one needs to \"come\" there conditionally \"from John Doe, who asked to tell that his daughter lost a tooth.\"',\n",
              " 'When you see high levels of wounds, you usually see a high level of dysfunctional staff.',\n",
              " 'I have always washed my hair with milk, and it has never fallen out or lost its colour.',\n",
              " 'Your doctor may want to take a sample of your blood and compare the clotting time of that sample with the time your meter gives.',\n",
              " 'Abella coauthored a bibliography, in Spanish, about the incident.',\n",
              " '- Let us imagine for a minute that manipulation of virtual holographic objects in the air is available not only to Tony Stark from Ironman, but to a regular person.',\n",
              " \"Her lab's methods involve using a gel to deliver drugs to a specific location in the central nervous system and to bypass the blood-brain barrier.\",\n",
              " 'Your doctor will diagnose infective endocarditis (IE) based on your risk factors, your medical history and signs and symptoms, and the results from tests.',\n",
              " 'The fact that I do not have any sponsors is evidence that there is no real interest in my programme.',\n",
              " 'So why do so many very old people live here in the south?',\n",
              " 'The buyer and seller often find each other through friends.',\n",
              " 'People who have already had SCA are at high risk of having it again.',\n",
              " 'If I were only interested in making money, I would not be standing for election.',\n",
              " \"However, I would not be able to live on it, for instance, I could not pay for my son's English school, which costs 30 thousand a month.\",\n",
              " 'The library also has an eponymous collection, the \"Rosa M. Abella Collection, 1996-1997,\" which contains archival material related to the 1996 shootdown of two Brothers to the Rescue planes by a Cuban Air Force MiG-29UB.',\n",
              " 'All they have to do is just support them in terms of looking for money, looking for food, and looking after the babies and the families\".',\n",
              " \"There are not many sources that inform the background of the organization, but Alfa Noranda's track record found starting in 2009 is the founder of the Cultural Heritage Advocacy Society which is a collection of communities that fight for conservation Cagar Budaya in Indonesia.\",\n",
              " 'Some of the deceased were meritorious soldiers.',\n",
              " \"It wasn't until 2013, in Perez's second stint as president that light began to emerge at the end of the tunnel.\",\n",
              " 'Nothing is worse than a half-empty library, said architect Winy Maas.',\n",
              " 'Others formally accused are Montreal highway engineers and Italian entrepreneurs, including Tony Accurso and Lino Zambito.',\n",
              " 'The drugs delivered in this way include chemotherapy drugs and agents to slow or reverse damage from a stroke.',\n",
              " 'It is important to note that, unlike Quebec, American citizens do not have a universal ID card such as the health insurance card.',\n",
              " 'Students, voters considered to be voting more for Democratic candidates, are not allowed in several States to use the photo ID card issued by their institution.',\n",
              " 'The New African said of him, \"It would be safe to bet that Abasse Ndione has seldom earned more than a pittance from any publisher.',\n",
              " 'They only have to sit at the back and support the elders or their husbands or the leaders in their families.',\n",
              " 'If you suspect that you, or someone else, is having a stroke, you should dial 999 immediately to request an ambulance.',\n",
              " 'These measures are clearly intended to limit the Hispanic vote.',\n",
              " '- Please tell us, in simple terms, about the work your research group does.',\n",
              " 'Sporn is also the only Lightning player to have her number (14) retired by the club.',\n",
              " 'However, the unrivalled star of the museum is shepherd Shirali Muslimov who is said to have lived to 168 years old.',\n",
              " 'Call your health care provider or go the emergency room if you think you might be in alcohol withdrawal, especially if you were using alcohol often and recently stopped.',\n",
              " 'Before you decide to have a minimally invasive hip replacement, get a thorough evaluation from the operating surgeon.',\n",
              " 'The Addis Ababa Fistula Hospital often uses medical staff without formal qualifications.',\n",
              " 'Restall noted that over the years there has been talk of many days of the last judgement, and said that if nothing happens on December 21st, \"people will immediately start thinking of the next date\" or philosophising that December 21st is the beginning of a seven-year period after which the world will end.',\n",
              " 'It toured mostly in Sweden and the Nordic Countries.',\n",
              " \"There's production there, sometimes handmade; and a mafia has formed, which has organized a stream, explains the former military man.\",\n",
              " 'The trip allowed him to come into contact with important scholars from other countries and this, unlike other scholars of the Kingdom of Naples, granted him a greater notoriety abroad.',\n",
              " 'Today, many men in whom cancer has been detected will not be treated because their cancer is not aggressive and is not life threatening.',\n",
              " 'The physical therapist will show you how to sit and stand from a chair, keeping your affected leg out in front of you.',\n",
              " 'Most people with headaches can feel much better by making lifestyle changes, learning ways to relax, and sometimes by taking medications.',\n",
              " 'Students and teachers are taking the date lightly.',\n",
              " 'I have never used shampoo either, said Mirzayeva.',\n",
              " 'Nevertheless, because so many people in the world are infected with H. pylori, it is considered to be an important cause of stomach cancer.',\n",
              " 'Should I take out a loan?',\n",
              " 'An adult patient presents to the emergency department unwell with a temperature but no specific signs of a focus of infection.',\n",
              " 'For all these patients, the local cardiac surgeon and interventional cardiologist determined that equivalent anatomical revascularization could be achieved with either treatment.',\n",
              " 'If you have an old chest x-ray, doctors can see if the change is new or old to compare.',\n",
              " \"Maybe I'll call some friends so we can have a laugh together said Samira Ford, 20-year-old communications student.\",\n",
              " 'They are caused by abnormally high cholesterol levels in the blood, which is common in people with liver disease.',\n",
              " 'Dr Yates is experienced in soft tissue fillers as well as complete facial rejuvenation providing service to the Salt Lake City metro area in Utah.',\n",
              " 'The septet—composed of Jin, Suga, J-Hope, RM, Jimin, V, and Jungkook—co-writes and co-produces much of their own output.',\n",
              " 'Three years after its creation, it comprised 35 researchers for MEMS research.',\n",
              " 'Lisette Verhaig has also visited already.',\n",
              " 'One survey of households in North Carolina, for example, identified 732 adults with chronic low back pain.',\n",
              " 'Most women who have a mastectomy can also have surgery to reconstruct the breast that is removed.',\n",
              " 'They met on 15 November 1923 where it was agreed to create a partner organisation to the Rotary Club which would assist the club in their role and provide a social benefit to its members.',\n",
              " 'However, Ramchandani left the group soon after the launch of their first album, VIVA! in 2002, to join the Art of Living Foundation. ',\n",
              " 'Each week, students explore apocalyptic themes such as nuclear war, zombies, viruses and germs, and global warming.',\n",
              " 'But increasingly, some academics and child development experts are coming out in praise of boredom.',\n",
              " 'Here the lives of eight dozen Talysh from the area who lived to older than 100 are documented. Fatulayeva points out a black & white photo.',\n",
              " 'The patient really needs to be made to understand the degree of risk of his cancer, by offering him the options available, not necessarily treating prostate cancers that are not long-term life threatening, and opting instead, in such cases, for active monitoring of the disease.',\n",
              " 'For the time being however their research is inconclusive.',\n",
              " 'However, two years later, Karwah died from complications of childbirth; her widower suggested that this might have been due to the widespread, mistaken belief that ebola survivors can still transmit the virus.',\n",
              " 'I have not gone to a doctor since the pain can be relieved by a hot compress.',\n",
              " 'The Republican authorities were quick to extend this practice to other States.',\n",
              " 'But for this, we need to identify both the user and the space around him.',\n",
              " 'Although people with ulcerative colitis commonly have minor liver dysfunction, only about 1 to 3% have symptoms of mild to severe liver disease.',\n",
              " 'Over the past two years, they sponsored bills in 34 States to force voters to show a photo ID card.',\n",
              " 'The expenditure on my campaign is basically covered by the pay I will be receiving as a senator.',\n",
              " 'This does not inspire much confidence.',\n",
              " 'In normal individuals, particularly infants and children, aspiration occurs when the airway protective mechanisms are stressed, such as while talking, laughing, eating, or sleeping.',\n",
              " 'Francis Gervase Omaswa, MBChB, MMed, FRCS (Edin), FCS (ECSA), is a Ugandan cardiovascular surgeon, academic and administrator.',\n",
              " 'On the other hand, 76% of voters were white but these represented only 46% of early voters.',\n",
              " 'I looked at sites, blogs, till someone responded, offering me to go to Begovaya station, where a man will be waiting for me to take me to the \"corner\" so we can negotiate.',\n",
              " 'Karwah survived ebola herself, before returning to work with Médecins Sans Frontières (Doctors Without Borders) to help other patients afflicted with the disease.',\n",
              " 'On the other hand, these same States allow fishing or hunting club members, who vote more Republican, to use the cards issued by these clubs when they vote.',\n",
              " 'In an individual patient, the approach to choose should probably be the one you have most successful experience with (although a case could be made for the opposite!).',\n",
              " 'Other people can have children.',\n",
              " 'Some said they plan to go to \"end of the world\" parties.',\n",
              " '- We work on the interaction of people with machines, at the same time trying to expand the boundaries of this interaction.',\n",
              " 'Recognizing that liver cancer is the most prevalent and economically disastrous cancer in Mongolia, Sergelen led the development of low-cost liver transplants in Mongolia.',\n",
              " 'You drive an Aston Martin, have assets worth 60 million, but you have no money for a campaign?',\n",
              " 'The Mifare Classic Card has been used in many micropayment applications, such as the Oyster card, CharlieCard, or the OV Chipkaart for payment.',\n",
              " 'Vivienne Yeda Apopo is a Kenyan banker and business attorney.',\n",
              " \"To get a weapon, I need someone with connections, says the sales consultant. - I have an acquaintance, but I'm not sure it's reliable.\",\n",
              " 'The victim, according to José, did not close his account.',\n",
              " 'As such, Peschard joined the Front de Libération Nationale, going on to participate in several missions the group launched against the colonial government.',\n",
              " \"Older children and adults can also get the infection if they haven't already had the disease.\",\n",
              " 'Your dermatologist will provide you with valuable information on the acne cause as well as options for treatment.']"
            ]
          },
          "metadata": {},
          "execution_count": 30
        }
      ]
    },
    {
      "cell_type": "markdown",
      "metadata": {
        "id": "8nv6lGyfXFQv"
      },
      "source": [
        "Some of the sentences have a person name in them, so NER will probably help with them. Other mention jobs (doctor, salesmen, etc) or nationalities or clearly animate entities (adults, women), so the identification of sentences with such animate entities should help. I think that sentences with 1-person pronouns can also be automatically identified (the situation with other pronouns may differ depending on the language)"
      ]
    },
    {
      "cell_type": "code",
      "metadata": {
        "id": "QMoH4INfHoVP"
      },
      "source": [
        "from sklearn.metrics import accuracy_score, precision_score, recall_score"
      ],
      "execution_count": 21,
      "outputs": []
    },
    {
      "cell_type": "markdown",
      "metadata": {
        "id": "bh2LSfQddI3q"
      },
      "source": [
        "Let's take a look at metrics and other languages available."
      ]
    },
    {
      "cell_type": "code",
      "metadata": {
        "id": "ahTmmCo0I7Zx"
      },
      "source": [
        "accuracies = dict()\n",
        "precisions = dict()\n",
        "recalls = dict()"
      ],
      "execution_count": 22,
      "outputs": []
    },
    {
      "cell_type": "code",
      "metadata": {
        "colab": {
          "base_uri": "https://localhost:8080/"
        },
        "id": "KCFXzb7CJvzd",
        "outputId": "beed75f1-719d-4b46-920c-5f38fdefaf60"
      },
      "source": [
        "acc_en = accuracy_score(y_test, y_pred_en)\n",
        "accuracies['acc_en'] = acc_en\n",
        "acc_en"
      ],
      "execution_count": 31,
      "outputs": [
        {
          "output_type": "execute_result",
          "data": {
            "text/plain": [
              "0.8827800829875518"
            ]
          },
          "metadata": {},
          "execution_count": 31
        }
      ]
    },
    {
      "cell_type": "code",
      "metadata": {
        "colab": {
          "base_uri": "https://localhost:8080/"
        },
        "id": "eSeQOSXBApUD",
        "outputId": "9fd25a39-16eb-400d-9f46-b17bad58d637"
      },
      "source": [
        "prec_en = precision_score(y_test, y_pred_en)\n",
        "precisions['prec_en'] = prec_en\n",
        "prec_en"
      ],
      "execution_count": 32,
      "outputs": [
        {
          "output_type": "execute_result",
          "data": {
            "text/plain": [
              "0.9146341463414634"
            ]
          },
          "metadata": {},
          "execution_count": 32
        }
      ]
    },
    {
      "cell_type": "code",
      "metadata": {
        "colab": {
          "base_uri": "https://localhost:8080/"
        },
        "id": "GYZ_BupfJyVx",
        "outputId": "1a9e9c7c-6b4d-4372-9e05-9c1b93801fe2"
      },
      "source": [
        "rec_en = recall_score(y_test, y_pred_en)\n",
        "recalls['rec_en'] = rec_en\n",
        "rec_en"
      ],
      "execution_count": 33,
      "outputs": [
        {
          "output_type": "execute_result",
          "data": {
            "text/plain": [
              "0.8637236084452975"
            ]
          },
          "metadata": {},
          "execution_count": 33
        }
      ]
    },
    {
      "cell_type": "code",
      "metadata": {
        "id": "-PZCtjzpNYGk"
      },
      "source": [
        "vectorizer_de = TfidfVectorizer()\n",
        "X_de = vectorizer_de.fit_transform(corpus_de)\n",
        "X_train_de, X_test_de, y_train, y_test = train_test_split(X_de, y, test_size=0.33, random_state=42)\n",
        "regr_de = LogisticRegression(random_state=0, solver='lbfgs', multi_class='ovr')\n",
        "regr_de.fit(X_train_de,y_train)\n",
        "y_pred_de = np.round(regr_de.predict(X_test_de))"
      ],
      "execution_count": 37,
      "outputs": []
    },
    {
      "cell_type": "code",
      "metadata": {
        "colab": {
          "base_uri": "https://localhost:8080/"
        },
        "id": "9hL6_1WuNbRT",
        "outputId": "4635cb9b-7a89-4816-9e3a-7888de5d9610"
      },
      "source": [
        "acc_de = accuracy_score(y_test, y_pred_de)\n",
        "accuracies['acc_de'] = acc_de\n",
        "acc_de"
      ],
      "execution_count": 38,
      "outputs": [
        {
          "output_type": "execute_result",
          "data": {
            "text/plain": [
              "0.8578838174273858"
            ]
          },
          "metadata": {},
          "execution_count": 38
        }
      ]
    },
    {
      "cell_type": "code",
      "metadata": {
        "colab": {
          "base_uri": "https://localhost:8080/"
        },
        "id": "VRh8womGN56Y",
        "outputId": "6a70b1b1-d48f-4cfa-8442-6505ea15ce67"
      },
      "source": [
        "prec_de = precision_score(y_test, y_pred_de)\n",
        "precisions['prec_de'] = prec_de\n",
        "prec_de"
      ],
      "execution_count": 39,
      "outputs": [
        {
          "output_type": "execute_result",
          "data": {
            "text/plain": [
              "0.8902439024390244"
            ]
          },
          "metadata": {},
          "execution_count": 39
        }
      ]
    },
    {
      "cell_type": "code",
      "metadata": {
        "colab": {
          "base_uri": "https://localhost:8080/"
        },
        "id": "hNfgFk0KOTVB",
        "outputId": "b8dde3c2-6d83-4e88-8110-527ff9db1c38"
      },
      "source": [
        "rec_de = recall_score(y_test, y_pred_de)\n",
        "recalls['rec_de'] = rec_de\n",
        "rec_de"
      ],
      "execution_count": 40,
      "outputs": [
        {
          "output_type": "execute_result",
          "data": {
            "text/plain": [
              "0.8406909788867563"
            ]
          },
          "metadata": {},
          "execution_count": 40
        }
      ]
    },
    {
      "cell_type": "code",
      "metadata": {
        "id": "Zg5fA21MU1u3"
      },
      "source": [
        "vectorizer_es = TfidfVectorizer()\n",
        "X_es = vectorizer_es.fit_transform(corpus_es.astype('U'))\n",
        "X_train_es, X_test_es, y_train_es, y_test_es = train_test_split(X_es, y, test_size=0.33, random_state=42)\n",
        "regr_es = LogisticRegression(random_state=0, solver='lbfgs', multi_class='ovr')\n",
        "regr_es.fit(X_train_es,y_train_es)\n",
        "y_pred_es = np.round(regr_es.predict(X_test_es))"
      ],
      "execution_count": 41,
      "outputs": []
    },
    {
      "cell_type": "code",
      "metadata": {
        "colab": {
          "base_uri": "https://localhost:8080/"
        },
        "id": "ZLG_xRoqVtl8",
        "outputId": "67c6d94b-a3d7-42b7-a794-b91a9f8644de"
      },
      "source": [
        "acc_es = accuracy_score(y_test, y_pred_es)\n",
        "accuracies['acc_es'] = acc_es\n",
        "acc_es"
      ],
      "execution_count": 42,
      "outputs": [
        {
          "output_type": "execute_result",
          "data": {
            "text/plain": [
              "0.8298755186721992"
            ]
          },
          "metadata": {},
          "execution_count": 42
        }
      ]
    },
    {
      "cell_type": "code",
      "metadata": {
        "colab": {
          "base_uri": "https://localhost:8080/"
        },
        "id": "1mvJrLidVw2d",
        "outputId": "efcf736e-6f4a-4237-b177-e793dfb1c5d2"
      },
      "source": [
        "prec_es = precision_score(y_test, y_pred_es)\n",
        "precisions['prec_es'] = prec_es\n",
        "prec_es"
      ],
      "execution_count": 43,
      "outputs": [
        {
          "output_type": "execute_result",
          "data": {
            "text/plain": [
              "0.86652977412731"
            ]
          },
          "metadata": {},
          "execution_count": 43
        }
      ]
    },
    {
      "cell_type": "code",
      "metadata": {
        "colab": {
          "base_uri": "https://localhost:8080/"
        },
        "id": "xBWTMMidVzCb",
        "outputId": "2a86acb4-0288-4a17-c3fe-91d8120b8fe7"
      },
      "source": [
        "rec_es = recall_score(y_test, y_pred_es)\n",
        "recalls['rec_es'] = rec_es\n",
        "rec_es"
      ],
      "execution_count": 44,
      "outputs": [
        {
          "output_type": "execute_result",
          "data": {
            "text/plain": [
              "0.8099808061420346"
            ]
          },
          "metadata": {},
          "execution_count": 44
        }
      ]
    },
    {
      "cell_type": "code",
      "metadata": {
        "colab": {
          "base_uri": "https://localhost:8080/"
        },
        "id": "f0Q3vhkBV2u9",
        "outputId": "27c90328-7a00-4e86-9b5f-ea09af368e4f"
      },
      "source": [
        "accuracies"
      ],
      "execution_count": 45,
      "outputs": [
        {
          "output_type": "execute_result",
          "data": {
            "text/plain": [
              "{'acc_de': 0.8578838174273858,\n",
              " 'acc_en': 0.8827800829875518,\n",
              " 'acc_es': 0.8298755186721992}"
            ]
          },
          "metadata": {},
          "execution_count": 45
        }
      ]
    },
    {
      "cell_type": "code",
      "metadata": {
        "colab": {
          "base_uri": "https://localhost:8080/"
        },
        "id": "6e7jH-aYOeeb",
        "outputId": "536bd54d-60bb-4ec5-df23-55d5343a6060"
      },
      "source": [
        "precisions"
      ],
      "execution_count": 46,
      "outputs": [
        {
          "output_type": "execute_result",
          "data": {
            "text/plain": [
              "{'prec_de': 0.8902439024390244,\n",
              " 'prec_en': 0.9146341463414634,\n",
              " 'prec_es': 0.86652977412731}"
            ]
          },
          "metadata": {},
          "execution_count": 46
        }
      ]
    },
    {
      "cell_type": "code",
      "metadata": {
        "colab": {
          "base_uri": "https://localhost:8080/"
        },
        "id": "1dFnmBbnOrYH",
        "outputId": "9592c989-c8fe-498d-9558-ebd80cf55a49"
      },
      "source": [
        "recalls"
      ],
      "execution_count": 47,
      "outputs": [
        {
          "output_type": "execute_result",
          "data": {
            "text/plain": [
              "{'rec_de': 0.8406909788867563,\n",
              " 'rec_en': 0.8637236084452975,\n",
              " 'rec_es': 0.8099808061420346}"
            ]
          },
          "metadata": {},
          "execution_count": 47
        }
      ]
    },
    {
      "cell_type": "markdown",
      "metadata": {
        "id": "1e44EkXSgZtg"
      },
      "source": [
        "I've also decided to look at Gensim pretrained embeddings to see whether there is a similarity between words that are related to the animate entities."
      ]
    },
    {
      "cell_type": "code",
      "metadata": {
        "id": "0jZyk7HGBGqe"
      },
      "source": [
        "import gensim.downloader as api"
      ],
      "execution_count": 49,
      "outputs": []
    },
    {
      "cell_type": "code",
      "metadata": {
        "colab": {
          "base_uri": "https://localhost:8080/"
        },
        "id": "AxVBRgzCCFuM",
        "outputId": "a1525967-5856-4384-99dc-e1258ba126ae"
      },
      "source": [
        "model_glove_twitter = api.load(\"glove-twitter-25\")"
      ],
      "execution_count": 50,
      "outputs": [
        {
          "output_type": "stream",
          "name": "stdout",
          "text": [
            "[==================================================] 100.0% 104.8/104.8MB downloaded\n"
          ]
        }
      ]
    },
    {
      "cell_type": "code",
      "metadata": {
        "colab": {
          "base_uri": "https://localhost:8080/"
        },
        "id": "d0GQjKw3CJCR",
        "outputId": "0818cd03-1e4b-457e-a370-3142d811cdf4"
      },
      "source": [
        "print(model_glove_twitter)"
      ],
      "execution_count": 51,
      "outputs": [
        {
          "output_type": "stream",
          "name": "stdout",
          "text": [
            "<gensim.models.keyedvectors.Word2VecKeyedVectors object at 0x7f52b6c898d0>\n"
          ]
        }
      ]
    },
    {
      "cell_type": "code",
      "metadata": {
        "colab": {
          "base_uri": "https://localhost:8080/"
        },
        "id": "-pbGejL_CLE4",
        "outputId": "4fe15a34-6fe5-4b3d-f81e-e480c3449ca5"
      },
      "source": [
        "model_glove_twitter.wv.most_similar('people', topn = 20)"
      ],
      "execution_count": 52,
      "outputs": [
        {
          "output_type": "stream",
          "name": "stderr",
          "text": [
            "/usr/local/lib/python3.7/dist-packages/ipykernel_launcher.py:1: DeprecationWarning: Call to deprecated `wv` (Attribute will be removed in 4.0.0, use self instead).\n",
            "  \"\"\"Entry point for launching an IPython kernel.\n"
          ]
        },
        {
          "output_type": "execute_result",
          "data": {
            "text/plain": [
              "[('other', 0.9613626003265381),\n",
              " ('those', 0.9485428929328918),\n",
              " ('ones', 0.9484484195709229),\n",
              " ('especially', 0.9475629329681396),\n",
              " ('reason', 0.9441413283348083),\n",
              " ('lot', 0.9433570504188538),\n",
              " ('things', 0.9403640031814575),\n",
              " ('except', 0.9374849796295166),\n",
              " ('they', 0.9373652935028076),\n",
              " ('there', 0.935519814491272),\n",
              " ('because', 0.9352456331253052),\n",
              " ('about', 0.9349503517150879),\n",
              " (\"'re\", 0.9346608519554138),\n",
              " ('friends', 0.9337660074234009),\n",
              " ('many', 0.9336183667182922),\n",
              " ('understand', 0.9331066608428955),\n",
              " ('either', 0.933001697063446),\n",
              " ('how', 0.93278968334198),\n",
              " ('unless', 0.9312679767608643),\n",
              " ('them', 0.9289588332176208)]"
            ]
          },
          "metadata": {},
          "execution_count": 52
        }
      ]
    },
    {
      "cell_type": "code",
      "metadata": {
        "colab": {
          "base_uri": "https://localhost:8080/"
        },
        "id": "Rj9o8GCWKPCW",
        "outputId": "160966de-d0c8-42dc-f8fa-62b2b25a96b1"
      },
      "source": [
        "model_glove_twitter.wv.most_similar('man', topn = 20)"
      ],
      "execution_count": 53,
      "outputs": [
        {
          "output_type": "stream",
          "name": "stderr",
          "text": [
            "/usr/local/lib/python3.7/dist-packages/ipykernel_launcher.py:1: DeprecationWarning: Call to deprecated `wv` (Attribute will be removed in 4.0.0, use self instead).\n",
            "  \"\"\"Entry point for launching an IPython kernel.\n"
          ]
        },
        {
          "output_type": "execute_result",
          "data": {
            "text/plain": [
              "[('was', 0.9065622091293335),\n",
              " ('i', 0.8880172371864319),\n",
              " ('he', 0.8874381184577942),\n",
              " ('bad', 0.8846144080162048),\n",
              " ('even', 0.8832389116287231),\n",
              " ('be', 0.8784030079841614),\n",
              " ('we', 0.8764979839324951),\n",
              " ('not', 0.8764553666114807),\n",
              " ('had', 0.8762109279632568),\n",
              " ('glad', 0.8758710622787476),\n",
              " ('is', 0.8737497925758362),\n",
              " ('am', 0.8718030452728271),\n",
              " ('so', 0.8705556988716125),\n",
              " ('men', 0.8705453872680664),\n",
              " ('wo', 0.8682353496551514),\n",
              " ('rest', 0.8665797710418701),\n",
              " ('sad', 0.8657856583595276),\n",
              " ('fucking', 0.8622854351997375),\n",
              " ('over', 0.8621624112129211),\n",
              " ('an', 0.8621268272399902)]"
            ]
          },
          "metadata": {},
          "execution_count": 53
        }
      ]
    },
    {
      "cell_type": "code",
      "metadata": {
        "colab": {
          "base_uri": "https://localhost:8080/"
        },
        "id": "OTdn500xjXbu",
        "outputId": "4dc6f328-d7fe-44aa-9ddc-41c73622be0f"
      },
      "source": [
        "model_glove_twitter.wv.most_similar('woman', topn = 20)"
      ],
      "execution_count": 59,
      "outputs": [
        {
          "output_type": "stream",
          "name": "stderr",
          "text": [
            "/usr/local/lib/python3.7/dist-packages/ipykernel_launcher.py:1: DeprecationWarning: Call to deprecated `wv` (Attribute will be removed in 4.0.0, use self instead).\n",
            "  \"\"\"Entry point for launching an IPython kernel.\n"
          ]
        },
        {
          "output_type": "execute_result",
          "data": {
            "text/plain": [
              "[('child', 0.9371739625930786),\n",
              " ('mother', 0.9214695692062378),\n",
              " ('whose', 0.9174973964691162),\n",
              " ('called', 0.9146500825881958),\n",
              " ('person', 0.9135538339614868),\n",
              " ('wife', 0.9088311195373535),\n",
              " ('being', 0.9037442803382874),\n",
              " ('father', 0.9028053283691406),\n",
              " ('guy', 0.9026351571083069),\n",
              " ('known', 0.8997253179550171),\n",
              " ('who', 0.893405556678772),\n",
              " ('women', 0.8889436721801758),\n",
              " ('born', 0.8853096961975098),\n",
              " ('become', 0.8848217725753784),\n",
              " ('children', 0.8835378289222717),\n",
              " ('virgin', 0.8829305171966553),\n",
              " ('husband', 0.8827938437461853),\n",
              " ('human', 0.87855464220047),\n",
              " ('female', 0.8775132298469543),\n",
              " ('rich', 0.8770859837532043)]"
            ]
          },
          "metadata": {},
          "execution_count": 59
        }
      ]
    },
    {
      "cell_type": "code",
      "metadata": {
        "colab": {
          "base_uri": "https://localhost:8080/"
        },
        "id": "YUJaGikPiiQL",
        "outputId": "81862045-3ab6-475f-f6d7-571d30abe163"
      },
      "source": [
        "model_glove_twitter.wv.most_similar('child', topn = 20)"
      ],
      "execution_count": 58,
      "outputs": [
        {
          "output_type": "stream",
          "name": "stderr",
          "text": [
            "/usr/local/lib/python3.7/dist-packages/ipykernel_launcher.py:1: DeprecationWarning: Call to deprecated `wv` (Attribute will be removed in 4.0.0, use self instead).\n",
            "  \"\"\"Entry point for launching an IPython kernel.\n"
          ]
        },
        {
          "output_type": "execute_result",
          "data": {
            "text/plain": [
              "[('mother', 0.9377204775810242),\n",
              " ('woman', 0.9371739625930786),\n",
              " ('father', 0.9260582327842712),\n",
              " ('children', 0.9258805513381958),\n",
              " ('called', 0.9033197164535522),\n",
              " ('death', 0.8979307413101196),\n",
              " ('wife', 0.896138072013855),\n",
              " ('birth', 0.8957393169403076),\n",
              " ('whose', 0.8928542733192444),\n",
              " ('daughter', 0.8889879584312439),\n",
              " ('slave', 0.8850050568580627),\n",
              " ('human', 0.8845320343971252),\n",
              " ('self', 0.8805544376373291),\n",
              " ('husband', 0.8750180006027222),\n",
              " ('every', 0.8702450394630432),\n",
              " ('known', 0.8701492547988892),\n",
              " ('person', 0.8693212270736694),\n",
              " ('kids', 0.8676499128341675),\n",
              " ('age', 0.8642564415931702),\n",
              " ('born', 0.8618560433387756)]"
            ]
          },
          "metadata": {},
          "execution_count": 58
        }
      ]
    },
    {
      "cell_type": "code",
      "metadata": {
        "colab": {
          "base_uri": "https://localhost:8080/"
        },
        "id": "_AUl9uYFhXtT",
        "outputId": "4cbb9ef1-f8ae-4513-84bc-d57f08c193b8"
      },
      "source": [
        "model_glove_twitter.wv.most_similar('doctor', topn = 20)"
      ],
      "execution_count": 54,
      "outputs": [
        {
          "output_type": "stream",
          "name": "stderr",
          "text": [
            "/usr/local/lib/python3.7/dist-packages/ipykernel_launcher.py:1: DeprecationWarning: Call to deprecated `wv` (Attribute will be removed in 4.0.0, use self instead).\n",
            "  \"\"\"Entry point for launching an IPython kernel.\n"
          ]
        },
        {
          "output_type": "execute_result",
          "data": {
            "text/plain": [
              "[('doc', 0.8603223562240601),\n",
              " ('has', 0.8328831195831299),\n",
              " ('found', 0.8258830904960632),\n",
              " ('actual', 0.8237391114234924),\n",
              " ('dad', 0.8182487487792969),\n",
              " ('ted', 0.8157984018325806),\n",
              " ('ron', 0.8132396340370178),\n",
              " ('teacher', 0.8123688101768494),\n",
              " ('idea', 0.8085229992866516),\n",
              " ('brother', 0.8054851293563843),\n",
              " ('spanish', 0.8051372170448303),\n",
              " ('bell', 0.8041635751724243),\n",
              " ('called', 0.8024425506591797),\n",
              " ('mary', 0.8015022277832031),\n",
              " ('mr.', 0.8011877536773682),\n",
              " ('father', 0.7991638779640198),\n",
              " ('comes', 0.7976055145263672),\n",
              " ('george', 0.7950779795646667),\n",
              " ('john', 0.7936967611312866),\n",
              " ('director', 0.7921426892280579)]"
            ]
          },
          "metadata": {},
          "execution_count": 54
        }
      ]
    },
    {
      "cell_type": "code",
      "metadata": {
        "colab": {
          "base_uri": "https://localhost:8080/"
        },
        "id": "KEN7cyMiirAF",
        "outputId": "cea2e6f3-2bb5-4a23-a7b9-d715dd9e71f5"
      },
      "source": [
        "model_glove_twitter.wv.most_similar('student', topn = 20)"
      ],
      "execution_count": 57,
      "outputs": [
        {
          "output_type": "stream",
          "name": "stderr",
          "text": [
            "/usr/local/lib/python3.7/dist-packages/ipykernel_launcher.py:1: DeprecationWarning: Call to deprecated `wv` (Attribute will be removed in 4.0.0, use self instead).\n",
            "  \"\"\"Entry point for launching an IPython kernel.\n"
          ]
        },
        {
          "output_type": "execute_result",
          "data": {
            "text/plain": [
              "[('students', 0.9311226010322571),\n",
              " ('senior', 0.9288715720176697),\n",
              " ('group', 0.9277381300926208),\n",
              " ('staff', 0.9138274192810059),\n",
              " ('primary', 0.911514937877655),\n",
              " ('private', 0.9070918560028076),\n",
              " ('college', 0.897129237651825),\n",
              " ('office', 0.8945457935333252),\n",
              " ('law', 0.8890551328659058),\n",
              " ('department', 0.8884310126304626),\n",
              " ('job', 0.8838340640068054),\n",
              " ('schools', 0.8792070746421814),\n",
              " ('teachers', 0.8772590160369873),\n",
              " ('research', 0.8759735822677612),\n",
              " ('business', 0.875503420829773),\n",
              " ('education', 0.8738331198692322),\n",
              " ('graduate', 0.8713834881782532),\n",
              " ('board', 0.8706340193748474),\n",
              " ('program', 0.8698241710662842),\n",
              " ('faculty', 0.8693956136703491)]"
            ]
          },
          "metadata": {},
          "execution_count": 57
        }
      ]
    },
    {
      "cell_type": "markdown",
      "metadata": {
        "id": "XQ3crDl9i1jF"
      },
      "source": [
        "Some words appear to have similarities to other animate entities (e.g. *doctor* or *child*), but such words as *people* and *man* don't seem to have (compare with *woman*). For *man* the problem can be that this word is also used as interjection, so the context is more broad than the one for *woman*. However, the bias regarding women can clearly be seen even at this point."
      ]
    }
  ]
}