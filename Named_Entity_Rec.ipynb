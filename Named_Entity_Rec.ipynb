{
 "cells": [
  {
   "cell_type": "code",
   "execution_count": 3,
   "metadata": {},
   "outputs": [],
   "source": [
    "import spacy\n",
    "from spacy.matcher import PhraseMatcher\n",
    "from spacy.tokens import Span  \n",
    "\n",
    "nlp = spacy.load('en_core_web_md')               # setup\n",
    "\n",
    "with open(\"first_text.txt\") as f:                # running the programm against the first page of the dataset\n",
    "    test = nlp(f.read())"
   ]
  },
  {
   "cell_type": "code",
   "execution_count": 6,
   "metadata": {},
   "outputs": [
    {
     "name": "stdout",
     "output_type": "stream",
     "text": [
      "Tara Devi - PERSON - People, including fictional\n",
      "Chandrima Shaha - PERSON - People, including fictional\n",
      "Mahlathini - PERSON - People, including fictional\n",
      "Antiguan - PERSON - People, including fictional\n",
      "Dharma Man - PERSON - People, including fictional\n"
     ]
    }
   ],
   "source": [
    "def show_entities(doc):                          # matching all entities in the text under the \"PERSON\" label\n",
    "    if doc.ents:\n",
    "        for ent in doc.ents:\n",
    "            if ent.label_ == \"PERSON\": \n",
    "                print(ent.text + ' - ' + ent.label_ + ' - ' + str(spacy.explain(ent.label_)))\n",
    "    else:\n",
    "        print('No named entities found.')\n",
    "        \n",
    "show_entities(test)"
   ]
  },
  {
   "cell_type": "code",
   "execution_count": null,
   "metadata": {},
   "outputs": [],
   "source": [
    "# the idea now is to single out all entities under the \"PERSON\" label to match senteneces which are about people"
   ]
  },
  {
   "cell_type": "code",
   "execution_count": null,
   "metadata": {},
   "outputs": [],
   "source": [
    "# but first we are going to add all types of pronouns to the \"PERSON\" entity to also match those:\n",
    "# since sentences can only include pronouns as well"
   ]
  },
  {
   "cell_type": "code",
   "execution_count": 7,
   "metadata": {},
   "outputs": [],
   "source": [
    "phrase_list_fp = [\"I\", \"me\", \"My\", \"my\", \"Me\", \"myself\", \"Myself\", \"mine\", \"Mine\"]\n",
    "phrase_list_male = [\"He\", \"he\", \"His\", \"his\", \"Him\", \"him\", \"Hiself\", \"hiself\", \"Himself\", \"himself\"]\n",
    "phrase_list_female = [\"She\", \"she\", \"Her\", \"her\", \"Hers\", \"hers\", \"Herself\", \"herself\"]\n",
    "phrase_list_they = [\"They\", \"they\", \"Them\", \"them\", \"Their\", \"their\", \"Themself\", \"themself\", \"themselves\", \"Themselves\"]\n",
    "\n",
    "phrase_list_pronouns = phrase_list_female + phrase_list_male + phrase_list_they\n",
    "\n",
    "phrase_patterns_fp = [nlp(text) for text in phrase_list_fp]\n",
    "phrase_patterns_male = [nlp(text) for text in phrase_list_male]\n",
    "phrase_patterns_female = [nlp(text) for text in phrase_list_female]\n",
    "phrase_patterns_they = [nlp(text) for text in phrase_list_they]"
   ]
  },
  {
   "cell_type": "code",
   "execution_count": 8,
   "metadata": {},
   "outputs": [],
   "source": [
    "matcher = PhraseMatcher(nlp.vocab)                       # adding all new pattern lists to the matcher\n",
    "\n",
    "matcher.add(\"first_p_pron\", None, *phrase_patterns_fp)\n",
    "matcher.add(\"male_pron\", None, *phrase_patterns_male)\n",
    "matcher.add(\"female_pron\", None, *phrase_patterns_female)\n",
    "matcher.add(\"they_them\", None, *phrase_patterns_they)\n",
    "\n",
    "matches = matcher(test)"
   ]
  },
  {
   "cell_type": "code",
   "execution_count": 9,
   "metadata": {},
   "outputs": [
    {
     "data": {
      "text/plain": [
       "[(7572202541173719006, 95, 96),\n",
       " (11199099686251259307, 118, 119),\n",
       " (11199099686251259307, 168, 169),\n",
       " (3853633594520772826, 187, 188),\n",
       " (3853633594520772826, 189, 190),\n",
       " (11199099686251259307, 191, 192),\n",
       " (7572202541173719006, 207, 208)]"
      ]
     },
     "execution_count": 9,
     "metadata": {},
     "output_type": "execute_result"
    }
   ],
   "source": [
    "matches                               # the new pronoun matches which were not included in the entities matches above"
   ]
  },
  {
   "cell_type": "code",
   "execution_count": 10,
   "metadata": {},
   "outputs": [],
   "source": [
    "pron = test.vocab.strings[u'PERSON']\n",
    "\n",
    "new_ents = [Span(test, match[1],match[2],label=pron) for match in matches]\n",
    "\n",
    "test.ents = list(test.ents) + new_ents"
   ]
  },
  {
   "cell_type": "code",
   "execution_count": 11,
   "metadata": {},
   "outputs": [
    {
     "name": "stdout",
     "output_type": "stream",
     "text": [
      "Tara Devi - PERSON - People, including fictional\n",
      "Chandrima Shaha - PERSON - People, including fictional\n",
      "her - PERSON - People, including fictional\n",
      "He - PERSON - People, including fictional\n",
      "Mahlathini - PERSON - People, including fictional\n",
      "His - PERSON - People, including fictional\n",
      "Antiguan - PERSON - People, including fictional\n",
      "me - PERSON - People, including fictional\n",
      "I - PERSON - People, including fictional\n",
      "his - PERSON - People, including fictional\n",
      "Her - PERSON - People, including fictional\n",
      "Dharma Man - PERSON - People, including fictional\n"
     ]
    }
   ],
   "source": [
    "show_entities(test)                              # now we match all people and pronouns in the data"
   ]
  },
  {
   "cell_type": "code",
   "execution_count": 12,
   "metadata": {},
   "outputs": [
    {
     "name": "stdout",
     "output_type": "stream",
     "text": [
      "So Tara Devi received informal tuition at home.\n",
      "This sentence is probably about a person!\n",
      "\n",
      "Chandrima Shaha (born 14 October 1952) is an Indian biologist, currently President of Indian National Science Academy (2020-22), and Professor of Eminence at the National Institute of Immunology.\n",
      "This sentence is probably about a person!\n",
      "\n",
      "\n",
      "This sentence is probably not about a person.\n",
      "Moreover, it should be noted that the country yielded to the principles of the United Nations Commission on International Trade, that is the rules set for cross-border insolvency cases, ensuring fairness for debtors and creditors.\n",
      "This sentence is probably not about a person.\n",
      "\n",
      "In 2019, Forbes ranked her the 8th most powerful woman in the world, having been in the top 10 for the last 4 years.\n",
      "This sentence is probably about a person!\n",
      "\n",
      "He has also served as executive director of the Caribbean Centre for Money and Finance (CCMF).\n",
      "This sentence is probably about a person!\n",
      "\n",
      "In 1972 the line-up of the Mahotella Queens disintegrated after royalty disagreements with Bopape, Mahlathini left the company in a similar dispute with the producer.\n",
      "This sentence is probably about a person!\n",
      "\n",
      "His personal best of 9.91 seconds is the Antiguan national record over 100 m.\n",
      "This sentence is probably about a person!\n",
      "\n",
      "This patient said to me after I replaced his second hip using the PATH®\n",
      "This sentence is probably about a person!\n",
      "Technique that it made a huge difference.\n",
      "This sentence is probably not about a person.\n",
      "\n",
      "Her grandfather Dharma Man Tuladhar was a philanthropist best known for renovating the Swayambhui stupa in 1918.\n",
      "This sentence is probably about a person!\n"
     ]
    }
   ],
   "source": [
    "for sent in test.sents:                      # creating a simple way of determining, whether a sentence is about person or not\n",
    "    \n",
    "    print(sent)\n",
    "    \n",
    "    person = False\n",
    "    for ent in sent.ents:\n",
    "        if ent.label_ == \"PERSON\":\n",
    "            person = True       \n",
    "    if person == True:\n",
    "        print(\"This sentence is probably about a person!\")\n",
    "        person = False\n",
    "    else:\n",
    "        print(\"This sentence is probably not about a person.\")\n",
    "        person = False\n",
    "        \n",
    "    "
   ]
  },
  {
   "cell_type": "code",
   "execution_count": 20,
   "metadata": {},
   "outputs": [
    {
     "name": "stdout",
     "output_type": "stream",
     "text": [
      "8\n",
      "3\n",
      "[So Tara Devi received informal tuition at home., \n",
      "Chandrima Shaha (born 14 October 1952) is an Indian biologist, currently President of Indian National Science Academy (2020-22), and Professor of Eminence at the National Institute of Immunology., \n",
      "In 2019, Forbes ranked her the 8th most powerful woman in the world, having been in the top 10 for the last 4 years., \n",
      "He has also served as executive director of the Caribbean Centre for Money and Finance (CCMF)., \n",
      "In 1972 the line-up of the Mahotella Queens disintegrated after royalty disagreements with Bopape, Mahlathini left the company in a similar dispute with the producer., \n",
      "His personal best of 9.91 seconds is the Antiguan national record over 100 m., \n",
      "This patient said to me after I replaced his second hip using the PATH®, \n",
      "Her grandfather Dharma Man Tuladhar was a philanthropist best known for renovating the Swayambhui stupa in 1918.]\n"
     ]
    }
   ],
   "source": [
    "person_sents = 0                         # creating a new list of sentences which only include those about people\n",
    "non_person_sents = 0                     # aka those which are under our new, expanded \"PERSON\" label:\n",
    "\n",
    "sentences = []\n",
    "\n",
    "for sent in test.sents:\n",
    "    person = False\n",
    "    for ent in sent.ents:\n",
    "        if ent.label_ == \"PERSON\":\n",
    "            person = True       \n",
    "    if person == True:\n",
    "        person_sents += 1\n",
    "        sentences.append(sent)\n",
    "        person = False\n",
    "    else:\n",
    "        non_person_sents += 1\n",
    "        person = False\n",
    "    \n",
    "print(person_sents)\n",
    "print(non_person_sents)\n",
    "print(sentences)"
   ]
  },
  {
   "cell_type": "code",
   "execution_count": null,
   "metadata": {},
   "outputs": [],
   "source": [
    "# now we use the matched sentences to try and decide their probability for gender bias:"
   ]
  },
  {
   "cell_type": "code",
   "execution_count": null,
   "metadata": {},
   "outputs": [],
   "source": [
    "# each sentence is awarded a point value between 0 and 5, which determines their likelihood for bias\n",
    "# certain values like quantity of pronouns or presence of \"They/Them\" weigh heavier in this\n",
    "# since these are more likely to cause problems for gender bias"
   ]
  },
  {
   "cell_type": "code",
   "execution_count": 23,
   "metadata": {},
   "outputs": [],
   "source": [
    "def bias_probability(text):                        \n",
    "\n",
    "    no_count = 0\n",
    "    low_count = 0\n",
    "    medium_count = 0\n",
    "    high_count = 0\n",
    "\n",
    "\n",
    "    for sent in sentences:\n",
    "\n",
    "        prob_count = 0\n",
    "        pers_count = 0\n",
    "        pron_count = 0\n",
    "\n",
    "        for token in sent:\n",
    "            if token.dep_ == \"nsubj\":\n",
    "                pers_count += 1\n",
    "            if token.text in phrase_list_pronouns:\n",
    "                pron_count += 1\n",
    "            if token.text in phrase_list_they:\n",
    "                prob_count += 1\n",
    "\n",
    "        if pers_count == 1:\n",
    "            prob_count += 1\n",
    "\n",
    "        if pers_count >= 2:\n",
    "            prob_count += 2\n",
    "\n",
    "        if pron_count >= 1:\n",
    "            prob_count += 2\n",
    "\n",
    "\n",
    "        if prob_count == 0:\n",
    "            no_count +=1\n",
    "        if prob_count == 1:\n",
    "            low_count += 1\n",
    "        if (prob_count == 2 or prob_count == 3):\n",
    "            medium_count += 1\n",
    "        if (prob_count == 4 or prob_count == 5):\n",
    "            high_count += 1\n",
    "\n",
    "\n",
    "    print(\"There's \" + str(no_count) + \" sentence(s) with no, \" + str(low_count) + \" with low, \" + str(medium_count) + \" with regular and \" + str(high_count) + \" sentence(s) with high probability of gender bias.\")\n",
    "    print(\"\"\" \n",
    "    'no probability' \\t \\t indicates that there is little chance this sentence would provoke gender bias.\n",
    "    'low probability' \\t \\t indicates that the sentence is probably only relevant when dealing with proper names of people.\n",
    "    'regular probability' \\t indicates that the sentence includes gender-specific pronouns and thus could provoke gender bias.\n",
    "    'high probability' \\t \\t indicates that the sentence contains a lot of pronouns and/or a use of 'They/them' and is thus very susceptible for gender bias.\"\"\")\n"
   ]
  },
  {
   "cell_type": "code",
   "execution_count": 24,
   "metadata": {},
   "outputs": [
    {
     "name": "stdout",
     "output_type": "stream",
     "text": [
      "There's 0 sentence(s) with no, 2 with low, 5 with regular and 1 sentence(s) with high probability of gender bias.\n",
      " \n",
      "    'no probability' \t \t indicates that there is little chance this sentence would provoke gender bias.\n",
      "    'low probability' \t \t indicates that the sentence is probably only relevant when dealing with proper names of people.\n",
      "    'regular probability' \t indicates that the sentence includes gender-specific pronouns and thus could provoke gender bias.\n",
      "    'high probability' \t \t indicates that the sentence contains a lot of pronouns and/or a use of 'They/them' and is thus very susceptible for gender bias.\n"
     ]
    }
   ],
   "source": [
    "bias_probability(test)"
   ]
  },
  {
   "cell_type": "code",
   "execution_count": null,
   "metadata": {},
   "outputs": [],
   "source": []
  }
 ],
 "metadata": {
  "kernelspec": {
   "display_name": "Python 3",
   "language": "python",
   "name": "python3"
  },
  "language_info": {
   "codemirror_mode": {
    "name": "ipython",
    "version": 3
   },
   "file_extension": ".py",
   "mimetype": "text/x-python",
   "name": "python",
   "nbconvert_exporter": "python",
   "pygments_lexer": "ipython3",
   "version": "3.8.5"
  }
 },
 "nbformat": 4,
 "nbformat_minor": 4
}
